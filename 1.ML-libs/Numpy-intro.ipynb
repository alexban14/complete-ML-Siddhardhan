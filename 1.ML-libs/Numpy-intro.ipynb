{
 "cells": [
  {
   "cell_type": "markdown",
   "id": "9abc37ff",
   "metadata": {},
   "source": [
    "# NumPy\n",
    "> Numerical Python\n",
    "\n",
    "Advantages of NumPy Arrays:\n",
    "1. Allows several Mathematical Operators\n",
    "2. Faster operations"
   ]
  },
  {
   "cell_type": "code",
   "execution_count": 3,
   "id": "369fc4f0",
   "metadata": {},
   "outputs": [
    {
     "name": "stdout",
     "output_type": "stream",
     "text": [
      "0.0\n"
     ]
    }
   ],
   "source": [
    "import numpy as np\n",
    "\n",
    "# list vs NumPy - Time taken\n",
    "\n",
    "from time import process_time\n",
    "\n",
    "pythonList = [i for i in range(10000)]\n",
    "startTime = process_time()\n",
    "pythonList = [i + 5 for i in pythonList]\n",
    "endTime = process_time()\n",
    "print(endTime - startTime)"
   ]
  },
  {
   "cell_type": "code",
   "execution_count": 5,
   "id": "d0554191",
   "metadata": {},
   "outputs": [
    {
     "name": "stdout",
     "output_type": "stream",
     "text": [
      "0.0\n"
     ]
    }
   ],
   "source": [
    "npArray = np.array([i for i in range(10000)])\n",
    "startTime = process_time()\n",
    "npArray += 5\n",
    "endTime = process_time()\n",
    "print(endTime - startTime)"
   ]
  },
  {
   "cell_type": "markdown",
   "id": "1b436b71",
   "metadata": {},
   "source": [
    "## NumPy Arrays"
   ]
  },
  {
   "cell_type": "code",
   "execution_count": 7,
   "id": "ca964ea7",
   "metadata": {},
   "outputs": [
    {
     "data": {
      "text/plain": [
       "numpy.ndarray"
      ]
     },
     "execution_count": 7,
     "metadata": {},
     "output_type": "execute_result"
    }
   ],
   "source": [
    "listOne = [1,2,3,4,5]\n",
    "type(listOne)\n",
    "\n",
    "npArray = np.array([1,2,3,4,5])\n",
    "type(npArray)\n"
   ]
  },
  {
   "cell_type": "markdown",
   "id": "45c1d457",
   "metadata": {},
   "source": [
    "Multidimensional array"
   ]
  },
  {
   "cell_type": "code",
   "execution_count": 12,
   "id": "3601909c",
   "metadata": {},
   "outputs": [
    {
     "name": "stdout",
     "output_type": "stream",
     "text": [
      "[[1 2 3 4]\n",
      " [5 6 7 8]]\n"
     ]
    },
    {
     "data": {
      "text/plain": [
       "(2, 4)"
      ]
     },
     "execution_count": 12,
     "metadata": {},
     "output_type": "execute_result"
    }
   ],
   "source": [
    "mdArr = np.array([(1,2,3,4), (5,6,7,8)])\n",
    "print(mdArr)\n",
    "mdArr.shape"
   ]
  },
  {
   "cell_type": "markdown",
   "id": "9460a40c",
   "metadata": {},
   "source": [
    "Initial Placeholders in NumPy"
   ]
  },
  {
   "cell_type": "code",
   "execution_count": 13,
   "id": "2453e2e4",
   "metadata": {},
   "outputs": [
    {
     "name": "stdout",
     "output_type": "stream",
     "text": [
      "[[0. 0. 0. 0. 0.]\n",
      " [0. 0. 0. 0. 0.]\n",
      " [0. 0. 0. 0. 0.]\n",
      " [0. 0. 0. 0. 0.]]\n"
     ]
    }
   ],
   "source": [
    "zerosArr = np.zeros((4, 5))\n",
    "print(zerosArr)"
   ]
  },
  {
   "cell_type": "code",
   "execution_count": 14,
   "id": "7cbf0b55",
   "metadata": {},
   "outputs": [
    {
     "name": "stdout",
     "output_type": "stream",
     "text": [
      "[[1. 1. 1.]\n",
      " [1. 1. 1.]\n",
      " [1. 1. 1.]]\n"
     ]
    }
   ],
   "source": [
    "onesArr = np.ones((3,3))\n",
    "print(onesArr)"
   ]
  },
  {
   "cell_type": "code",
   "execution_count": 15,
   "id": "d962ac5a",
   "metadata": {},
   "outputs": [
    {
     "name": "stdout",
     "output_type": "stream",
     "text": [
      "[[5 5 5 5]\n",
      " [5 5 5 5]\n",
      " [5 5 5 5]\n",
      " [5 5 5 5]\n",
      " [5 5 5 5]]\n"
     ]
    }
   ],
   "source": [
    "# array filled with particular value\n",
    "zArr = np.full((5,4), 5)\n",
    "print(zArr)"
   ]
  },
  {
   "cell_type": "code",
   "execution_count": 16,
   "id": "1582e419",
   "metadata": {},
   "outputs": [
    {
     "name": "stdout",
     "output_type": "stream",
     "text": [
      "[[1. 0. 0. 0. 0.]\n",
      " [0. 1. 0. 0. 0.]\n",
      " [0. 0. 1. 0. 0.]\n",
      " [0. 0. 0. 1. 0.]\n",
      " [0. 0. 0. 0. 1.]]\n"
     ]
    }
   ],
   "source": [
    "# identity matrix\n",
    "iMat = np.eye(5)\n",
    "print(iMat)"
   ]
  },
  {
   "cell_type": "code",
   "execution_count": 4,
   "id": "97f383b1",
   "metadata": {},
   "outputs": [
    {
     "name": "stdout",
     "output_type": "stream",
     "text": [
      "[[0.26498164 0.83938572 0.94695572 0.48415816]\n",
      " [0.847097   0.93972709 0.44351517 0.12139963]\n",
      " [0.85026443 0.01422356 0.72179767 0.27339586]]\n",
      "[[44 56 69 93 64]\n",
      " [49 21 70 43 53]\n",
      " [79 14 94 65 80]]\n"
     ]
    }
   ],
   "source": [
    "# arrays with random values\n",
    "\n",
    "# random floats\n",
    "randomFloats = np.random.random((3,4))\n",
    "print(randomFloats)\n",
    "# random ints within a specific range\n",
    "randomInts = np.random.randint(10, 100, (3,5))\n",
    "print(randomInts)"
   ]
  },
  {
   "cell_type": "code",
   "execution_count": 21,
   "id": "2201fc10",
   "metadata": {},
   "outputs": [
    {
     "name": "stdout",
     "output_type": "stream",
     "text": [
      "[10. 14. 18. 22. 26. 30.]\n"
     ]
    }
   ],
   "source": [
    "# evenly spcaed values\n",
    "evenVal = np.linspace(10, 30, 6)\n",
    "print(evenVal)"
   ]
  },
  {
   "cell_type": "code",
   "execution_count": 22,
   "id": "e80d310d",
   "metadata": {},
   "outputs": [
    {
     "name": "stdout",
     "output_type": "stream",
     "text": [
      "[10 15 20 25]\n"
     ]
    }
   ],
   "source": [
    "# evenly spcaed values specifing a step\n",
    "evenStepVals = np.arange(10,30, 5)\n",
    "print(evenStepVals)"
   ]
  },
  {
   "cell_type": "code",
   "execution_count": 23,
   "id": "3282770e",
   "metadata": {},
   "outputs": [
    {
     "name": "stdout",
     "output_type": "stream",
     "text": [
      "[10 20 30 30 10 40]\n"
     ]
    },
    {
     "data": {
      "text/plain": [
       "numpy.ndarray"
      ]
     },
     "execution_count": 23,
     "metadata": {},
     "output_type": "execute_result"
    }
   ],
   "source": [
    "# convert list into numpy array\n",
    "pyList = [10, 20, 30, 30, 10, 40]\n",
    "\n",
    "npArray = np.asarray(pyList)\n",
    "print(npArray)\n",
    "type(npArray)"
   ]
  },
  {
   "cell_type": "markdown",
   "id": "dea9e1db",
   "metadata": {},
   "source": [
    "### Analysing NumPy arrays"
   ]
  },
  {
   "cell_type": "code",
   "execution_count": 5,
   "id": "3d2a43be",
   "metadata": {},
   "outputs": [
    {
     "name": "stdout",
     "output_type": "stream",
     "text": [
      "(3, 5)\n"
     ]
    }
   ],
   "source": [
    "# array dimension\n",
    "print(randomInts.shape)"
   ]
  },
  {
   "cell_type": "code",
   "execution_count": 6,
   "id": "64dd0127",
   "metadata": {},
   "outputs": [
    {
     "name": "stdout",
     "output_type": "stream",
     "text": [
      "2\n"
     ]
    }
   ],
   "source": [
    "# number of dimensions\n",
    "print(randomInts.ndim)"
   ]
  },
  {
   "cell_type": "code",
   "execution_count": 7,
   "id": "31ebc081",
   "metadata": {},
   "outputs": [
    {
     "name": "stdout",
     "output_type": "stream",
     "text": [
      "15\n"
     ]
    }
   ],
   "source": [
    "# number of elements in array\n",
    "print(randomInts.size)"
   ]
  },
  {
   "cell_type": "code",
   "execution_count": 8,
   "id": "3083b9f8",
   "metadata": {},
   "outputs": [
    {
     "name": "stdout",
     "output_type": "stream",
     "text": [
      "int32\n"
     ]
    }
   ],
   "source": [
    "# checking data type of values in the array\n",
    "print(randomInts.dtype)"
   ]
  },
  {
   "cell_type": "markdown",
   "id": "5846b0d1",
   "metadata": {},
   "source": [
    "## Mathematical operations on a NP array"
   ]
  },
  {
   "cell_type": "code",
   "execution_count": 9,
   "id": "6bff20bb",
   "metadata": {},
   "outputs": [
    {
     "name": "stdout",
     "output_type": "stream",
     "text": [
      "[1, 2, 3, 4, 5, 6, 7, 8, 9, 10]\n"
     ]
    }
   ],
   "source": [
    "listOne = [1,2,3,4,5]\n",
    "listTwo = [6,7,8,9,10]\n",
    "\n",
    "print(listOne + listTwo) # conactenates two lists"
   ]
  },
  {
   "cell_type": "code",
   "execution_count": 15,
   "id": "3aea24e7",
   "metadata": {},
   "outputs": [
    {
     "name": "stdout",
     "output_type": "stream",
     "text": [
      "[[11 14  3]\n",
      " [12 10 11]\n",
      " [15 10  8]]\n"
     ]
    }
   ],
   "source": [
    "npArrOne = np.random.randint(0, 10, (3, 3))\n",
    "npArrTwo = np.random.randint(0, 10, (3, 3))\n",
    "\n",
    "# adding 2 np arrays results in adding the values from each index togheter\n",
    "print(npArrOne + npArrTwo)"
   ]
  },
  {
   "cell_type": "code",
   "execution_count": 17,
   "id": "78e4a24b",
   "metadata": {},
   "outputs": [
    {
     "name": "stdout",
     "output_type": "stream",
     "text": [
      "[[30 45  2]\n",
      " [32 16 24]\n",
      " [54 24  7]]\n",
      "[[0.83333333 1.8        2.        ]\n",
      " [0.5        0.25       0.375     ]\n",
      " [1.5        1.5        7.        ]]\n"
     ]
    }
   ],
   "source": [
    "# more mathematical operations\n",
    "print(npArrOne * npArrTwo)\n",
    "print(npArrOne / npArrTwo)"
   ]
  },
  {
   "cell_type": "code",
   "execution_count": 19,
   "id": "08e316c4",
   "metadata": {},
   "outputs": [
    {
     "name": "stdout",
     "output_type": "stream",
     "text": [
      "[[11 14  3]\n",
      " [12 10 11]\n",
      " [15 10  8]]\n",
      "[[-1  4  1]\n",
      " [-4 -6 -5]\n",
      " [ 3  2  6]]\n",
      "[[30 45  2]\n",
      " [32 16 24]\n",
      " [54 24  7]]\n",
      "[[0.83333333 1.8        2.        ]\n",
      " [0.5        0.25       0.375     ]\n",
      " [1.5        1.5        7.        ]]\n"
     ]
    }
   ],
   "source": [
    "# mathematical operations on 2 NumPy arrays using provided functions\n",
    "\n",
    "print(np.add(npArrOne, npArrTwo))\n",
    "print(np.subtract(npArrOne, npArrTwo))\n",
    "print(np.multiply(npArrOne, npArrTwo))\n",
    "print(np.divide(npArrOne, npArrTwo))"
   ]
  },
  {
   "cell_type": "markdown",
   "id": "b8953f8c",
   "metadata": {},
   "source": [
    "## Array Manipulation"
   ]
  },
  {
   "cell_type": "code",
   "execution_count": 20,
   "id": "2895dab0",
   "metadata": {},
   "outputs": [
    {
     "name": "stdout",
     "output_type": "stream",
     "text": [
      "[[8 5 3]\n",
      " [8 0 3]]\n",
      "(2, 3)\n"
     ]
    }
   ],
   "source": [
    "npArr = np.random.randint(0, 10, (2, 3))\n",
    "print(npArr)\n",
    "print(npArr.shape)"
   ]
  },
  {
   "cell_type": "markdown",
   "id": "4bc8c9c5",
   "metadata": {},
   "source": [
    "### Transpose\n",
    "* creating the transponse of the matrix => reversing the shape of the matrix"
   ]
  },
  {
   "cell_type": "code",
   "execution_count": 21,
   "id": "1c4bd57d",
   "metadata": {},
   "outputs": [
    {
     "name": "stdout",
     "output_type": "stream",
     "text": [
      "[[8 8]\n",
      " [5 0]\n",
      " [3 3]]\n",
      "(3, 2)\n"
     ]
    }
   ],
   "source": [
    "trans = np.transpose(npArr)\n",
    "print(trans)\n",
    "print(trans.shape)"
   ]
  },
  {
   "cell_type": "code",
   "execution_count": 22,
   "id": "05f05a73",
   "metadata": {},
   "outputs": [
    {
     "name": "stdout",
     "output_type": "stream",
     "text": [
      "[[8 8]\n",
      " [5 0]\n",
      " [3 3]]\n",
      "(3, 2)\n"
     ]
    }
   ],
   "source": [
    "# another transpose solution\n",
    "secondTrans = npArr.T\n",
    "print(secondTrans)\n",
    "print(secondTrans.shape)"
   ]
  },
  {
   "cell_type": "markdown",
   "id": "6e69976a",
   "metadata": {},
   "source": [
    "### Reshaping"
   ]
  },
  {
   "cell_type": "code",
   "execution_count": 23,
   "id": "fb510c9d",
   "metadata": {},
   "outputs": [
    {
     "name": "stdout",
     "output_type": "stream",
     "text": [
      "[[7 6 0]\n",
      " [9 6 0]]\n",
      "(2, 3)\n"
     ]
    }
   ],
   "source": [
    "npArrRe = np.random.randint(0, 10, (2, 3))\n",
    "print(npArrRe)\n",
    "print(npArrRe.shape)"
   ]
  },
  {
   "cell_type": "code",
   "execution_count": 25,
   "id": "85d54e7c",
   "metadata": {},
   "outputs": [
    {
     "name": "stdout",
     "output_type": "stream",
     "text": [
      "[[7 6]\n",
      " [0 9]\n",
      " [6 0]]\n",
      "(3, 2)\n"
     ]
    }
   ],
   "source": [
    "npArrReB = npArrRe.reshape(3,2)\n",
    "print(npArrReB)\n",
    "print(npArrReB.shape)"
   ]
  },
  {
   "cell_type": "code",
   "execution_count": null,
   "id": "b7b2c13c",
   "metadata": {},
   "outputs": [],
   "source": []
  }
 ],
 "metadata": {
  "kernelspec": {
   "display_name": "Python 3 (ipykernel)",
   "language": "python",
   "name": "python3"
  },
  "language_info": {
   "codemirror_mode": {
    "name": "ipython",
    "version": 3
   },
   "file_extension": ".py",
   "mimetype": "text/x-python",
   "name": "python",
   "nbconvert_exporter": "python",
   "pygments_lexer": "ipython3",
   "version": "3.10.9"
  }
 },
 "nbformat": 4,
 "nbformat_minor": 5
}
