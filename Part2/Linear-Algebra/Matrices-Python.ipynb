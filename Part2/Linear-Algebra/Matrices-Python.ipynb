{
 "cells": [
  {
   "cell_type": "code",
   "execution_count": 1,
   "id": "93eedb7f",
   "metadata": {},
   "outputs": [],
   "source": [
    "import numpy as np"
   ]
  },
  {
   "cell_type": "markdown",
   "id": "040f564b",
   "metadata": {},
   "source": [
    "## Creating Matrices using Numpy"
   ]
  },
  {
   "cell_type": "code",
   "execution_count": 6,
   "id": "0141e0f1",
   "metadata": {},
   "outputs": [
    {
     "name": "stdout",
     "output_type": "stream",
     "text": [
      "[[2 3]\n",
      " [6 7]]\n"
     ]
    }
   ],
   "source": [
    "matrix_1 = np.array([\n",
    "    [2, 3],\n",
    "    [6, 7]\n",
    "])\n",
    "\n",
    "print(matrix_1)"
   ]
  },
  {
   "cell_type": "code",
   "execution_count": 4,
   "id": "87f804ce",
   "metadata": {},
   "outputs": [
    {
     "data": {
      "text/plain": [
       "(2, 2)"
      ]
     },
     "execution_count": 4,
     "metadata": {},
     "output_type": "execute_result"
    }
   ],
   "source": [
    "matrix_1.shape"
   ]
  },
  {
   "cell_type": "code",
   "execution_count": 5,
   "id": "ed0fb8c6",
   "metadata": {},
   "outputs": [
    {
     "name": "stdout",
     "output_type": "stream",
     "text": [
      "[[10 35 45]\n",
      " [50 64 80]\n",
      " [20 15 90]]\n"
     ]
    }
   ],
   "source": [
    "matrix_2 = np.array([\n",
    "    [10,35,45],\n",
    "    [50,64,80],\n",
    "    [20,15,90]\n",
    "])\n",
    "\n",
    "print(matrix_2)"
   ]
  },
  {
   "cell_type": "code",
   "execution_count": 7,
   "id": "7b715c14",
   "metadata": {},
   "outputs": [
    {
     "data": {
      "text/plain": [
       "(3, 3)"
      ]
     },
     "execution_count": 7,
     "metadata": {},
     "output_type": "execute_result"
    }
   ],
   "source": [
    "matrix_2.shape"
   ]
  },
  {
   "cell_type": "markdown",
   "id": "54bb4e8c",
   "metadata": {},
   "source": [
    "Creating Matrices with random values"
   ]
  },
  {
   "cell_type": "code",
   "execution_count": 8,
   "id": "30ec179c",
   "metadata": {},
   "outputs": [
    {
     "name": "stdout",
     "output_type": "stream",
     "text": [
      "[[0.57222334 0.34282463 0.25470791]\n",
      " [0.18016977 0.48961254 0.55628775]\n",
      " [0.60970592 0.85526676 0.27817785]]\n"
     ]
    }
   ],
   "source": [
    "random_matrix = np.random.rand(3,3) # creates a 3x3 Matrix with random values between 0-1\n",
    "print(random_matrix)"
   ]
  },
  {
   "cell_type": "code",
   "execution_count": 10,
   "id": "9a8f2623",
   "metadata": {},
   "outputs": [
    {
     "name": "stdout",
     "output_type": "stream",
     "text": [
      "[[33 23 78 72 70]\n",
      " [65 26 75 57 55]\n",
      " [80 41 18 65 21]\n",
      " [14 57 18  2 80]]\n"
     ]
    }
   ],
   "source": [
    "rand_int_matrix = np.random.randint(100, size=(4,5))\n",
    "\n",
    "print(rand_int_matrix)"
   ]
  },
  {
   "cell_type": "markdown",
   "id": "18d8ce59",
   "metadata": {},
   "source": [
    "## Matrices with all values as 1"
   ]
  },
  {
   "cell_type": "code",
   "execution_count": 12,
   "id": "ed8508a5",
   "metadata": {},
   "outputs": [
    {
     "name": "stdout",
     "output_type": "stream",
     "text": [
      "[[1. 1. 1.]\n",
      " [1. 1. 1.]]\n"
     ]
    }
   ],
   "source": [
    "matrix_3 = np.ones((2,3))\n",
    "print(matrix_3)"
   ]
  },
  {
   "cell_type": "code",
   "execution_count": 14,
   "id": "59bcd06b",
   "metadata": {},
   "outputs": [
    {
     "name": "stdout",
     "output_type": "stream",
     "text": [
      "[[1 1 1 1 1 1 1]\n",
      " [1 1 1 1 1 1 1]\n",
      " [1 1 1 1 1 1 1]\n",
      " [1 1 1 1 1 1 1]\n",
      " [1 1 1 1 1 1 1]]\n"
     ]
    }
   ],
   "source": [
    "matrix_3 = np.ones((5,7), dtype=int)\n",
    "print(matrix_3)"
   ]
  },
  {
   "cell_type": "markdown",
   "id": "507ce3db",
   "metadata": {},
   "source": [
    "## Null Matrix"
   ]
  },
  {
   "cell_type": "code",
   "execution_count": 15,
   "id": "9965fdc5",
   "metadata": {},
   "outputs": [
    {
     "name": "stdout",
     "output_type": "stream",
     "text": [
      "[[0. 0. 0. 0.]\n",
      " [0. 0. 0. 0.]\n",
      " [0. 0. 0. 0.]\n",
      " [0. 0. 0. 0.]]\n"
     ]
    }
   ],
   "source": [
    "null_matrix = np.zeros((4,4))\n",
    "print(null_matrix)"
   ]
  },
  {
   "cell_type": "markdown",
   "id": "14043403",
   "metadata": {},
   "source": [
    "## Identity Matrix\n",
    "* all diagonal values 1 and the rest remain 0"
   ]
  },
  {
   "cell_type": "code",
   "execution_count": 17,
   "id": "bddc2d69",
   "metadata": {},
   "outputs": [
    {
     "name": "stdout",
     "output_type": "stream",
     "text": [
      "[[1. 0. 0.]\n",
      " [0. 1. 0.]\n",
      " [0. 0. 1.]]\n"
     ]
    }
   ],
   "source": [
    "identity_matrix = np.eye(3,3)\n",
    "print(identity_matrix)"
   ]
  },
  {
   "cell_type": "code",
   "execution_count": 18,
   "id": "be0330b3",
   "metadata": {},
   "outputs": [
    {
     "name": "stdout",
     "output_type": "stream",
     "text": [
      "[[1. 0. 0. 0. 0.]\n",
      " [0. 1. 0. 0. 0.]\n",
      " [0. 0. 1. 0. 0.]\n",
      " [0. 0. 0. 1. 0.]\n",
      " [0. 0. 0. 0. 1.]]\n"
     ]
    }
   ],
   "source": [
    "identity_matrix = np.eye(5,5)\n",
    "print(identity_matrix)"
   ]
  },
  {
   "cell_type": "markdown",
   "id": "f401b1c9",
   "metadata": {},
   "source": [
    "## Transpose of a Matrix"
   ]
  },
  {
   "cell_type": "code",
   "execution_count": 19,
   "id": "eb93931f",
   "metadata": {},
   "outputs": [
    {
     "name": "stdout",
     "output_type": "stream",
     "text": [
      "[[46 51 60 15 62]\n",
      " [43 38 63 56 29]\n",
      " [66 15 57 11  4]\n",
      " [ 6 20 17 84 83]]\n"
     ]
    }
   ],
   "source": [
    "# random matrix\n",
    "a = np.random.randint(100, size=(4,5))\n",
    "print(a)"
   ]
  },
  {
   "cell_type": "code",
   "execution_count": 20,
   "id": "7ea8c0a8",
   "metadata": {},
   "outputs": [
    {
     "name": "stdout",
     "output_type": "stream",
     "text": [
      "[[46 43 66  6]\n",
      " [51 38 15 20]\n",
      " [60 63 57 17]\n",
      " [15 56 11 84]\n",
      " [62 29  4 83]]\n"
     ]
    }
   ],
   "source": [
    "transpose_of_a = np.transpose(a)\n",
    "print(transpose_of_a)"
   ]
  },
  {
   "cell_type": "code",
   "execution_count": null,
   "id": "d5bd944a",
   "metadata": {},
   "outputs": [],
   "source": []
  }
 ],
 "metadata": {
  "kernelspec": {
   "display_name": "Python 3 (ipykernel)",
   "language": "python",
   "name": "python3"
  },
  "language_info": {
   "codemirror_mode": {
    "name": "ipython",
    "version": 3
   },
   "file_extension": ".py",
   "mimetype": "text/x-python",
   "name": "python",
   "nbconvert_exporter": "python",
   "pygments_lexer": "ipython3",
   "version": "3.10.9"
  }
 },
 "nbformat": 4,
 "nbformat_minor": 5
}
