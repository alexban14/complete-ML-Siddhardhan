{
 "cells": [
  {
   "cell_type": "markdown",
   "id": "534fe518-a8a2-457b-aa5d-97068088e99a",
   "metadata": {},
   "source": [
    "# Matrix operations in python"
   ]
  },
  {
   "cell_type": "code",
   "execution_count": 1,
   "id": "93e8cd7b-1bf5-4922-8841-0beffbea3936",
   "metadata": {},
   "outputs": [],
   "source": [
    "import numpy as np"
   ]
  },
  {
   "cell_type": "markdown",
   "id": "6b1b3d1b-cda5-4406-b8f5-139c68bf0d31",
   "metadata": {},
   "source": [
    "## Matrix Addition\n",
    "* can be added only if they have the same shape"
   ]
  },
  {
   "cell_type": "code",
   "execution_count": 6,
   "id": "664fa2dc-2336-4231-899d-94645a4494a9",
   "metadata": {},
   "outputs": [
    {
     "name": "stdout",
     "output_type": "stream",
     "text": [
      "[[2 3]\n",
      " [4 5]] (2, 2)\n",
      "[[6 7]\n",
      " [8 9]] (2, 2)\n"
     ]
    }
   ],
   "source": [
    "a = np.array([\n",
    "    [2,3],\n",
    "    [4,5]\n",
    "])\n",
    "\n",
    "b = np.array([\n",
    "    [6,7],\n",
    "    [8,9]\n",
    "])\n",
    "\n",
    "print(a, a.shape)\n",
    "print(b, b.shape)"
   ]
  },
  {
   "cell_type": "code",
   "execution_count": 7,
   "id": "a6d70757-c821-4aa2-9c7d-6ea059f4d2ca",
   "metadata": {},
   "outputs": [
    {
     "name": "stdout",
     "output_type": "stream",
     "text": [
      "[[ 8 10]\n",
      " [12 14]]\n"
     ]
    }
   ],
   "source": [
    "abSum = a + b\n",
    "\n",
    "print(abSum)"
   ]
  },
  {
   "cell_type": "code",
   "execution_count": 12,
   "id": "3778afcc-feca-4160-a8dc-9bcc6b58aa59",
   "metadata": {},
   "outputs": [
    {
     "name": "stdout",
     "output_type": "stream",
     "text": [
      "[[6 2 0]\n",
      " [7 7 8]\n",
      " [6 7 1]]\n",
      "[[ 2 12  6]\n",
      " [18  7  2]\n",
      " [15 13 18]]\n"
     ]
    }
   ],
   "source": [
    "# creating 2 similarly shaped matrices with randomn values\n",
    "mx_1 = np.random.randint(10, size=(3,3))\n",
    "mx_2 = np.random.randint(20, size=(3,3))\n",
    "\n",
    "print(mx_1)\n",
    "print(mx_2)"
   ]
  },
  {
   "cell_type": "code",
   "execution_count": 11,
   "id": "ee3b4e74-5390-477a-a106-77fe821862b7",
   "metadata": {},
   "outputs": [
    {
     "name": "stdout",
     "output_type": "stream",
     "text": [
      "[[16  1  9]\n",
      " [ 3  6 11]\n",
      " [15 10 20]]\n"
     ]
    }
   ],
   "source": [
    "mxsSum = np.add(mx_1, mx_2)\n",
    "\n",
    "print(mxsSum)"
   ]
  },
  {
   "cell_type": "code",
   "execution_count": 13,
   "id": "72a781d8-82e6-4a57-9b78-23bdca2ad7ef",
   "metadata": {},
   "outputs": [
    {
     "ename": "ValueError",
     "evalue": "operands could not be broadcast together with shapes (3,3) (3,4) ",
     "output_type": "error",
     "traceback": [
      "\u001b[1;31m---------------------------------------------------------------------------\u001b[0m",
      "\u001b[1;31mValueError\u001b[0m                                Traceback (most recent call last)",
      "Cell \u001b[1;32mIn[13], line 5\u001b[0m\n\u001b[0;32m      2\u001b[0m mx_1_2 \u001b[38;5;241m=\u001b[39m np\u001b[38;5;241m.\u001b[39mrandom\u001b[38;5;241m.\u001b[39mrandint(\u001b[38;5;241m10\u001b[39m, size\u001b[38;5;241m=\u001b[39m(\u001b[38;5;241m3\u001b[39m,\u001b[38;5;241m3\u001b[39m))\n\u001b[0;32m      3\u001b[0m mx_2_2 \u001b[38;5;241m=\u001b[39m np\u001b[38;5;241m.\u001b[39mrandom\u001b[38;5;241m.\u001b[39mrandint(\u001b[38;5;241m20\u001b[39m, size\u001b[38;5;241m=\u001b[39m(\u001b[38;5;241m3\u001b[39m,\u001b[38;5;241m4\u001b[39m))\n\u001b[1;32m----> 5\u001b[0m sum2 \u001b[38;5;241m=\u001b[39m np\u001b[38;5;241m.\u001b[39madd(mx_1_2,mx_2_2)\n",
      "\u001b[1;31mValueError\u001b[0m: operands could not be broadcast together with shapes (3,3) (3,4) "
     ]
    }
   ],
   "source": [
    "# creating 2 matrices with randomn values with diferent shapes\n",
    "mx_1_2 = np.random.randint(10, size=(3,3))\n",
    "mx_2_2 = np.random.randint(20, size=(3,4))\n",
    "\n",
    "sum2 = np.add(mx_1_2,mx_2_2)"
   ]
  },
  {
   "cell_type": "markdown",
   "id": "f05bd347-db14-4c7d-859b-3faaab748564",
   "metadata": {},
   "source": [
    "***adding different shaped matrices will always throw an error***"
   ]
  },
  {
   "cell_type": "markdown",
   "id": "d1e169bf-6f47-40c2-9c63-2ed2aee2105a",
   "metadata": {},
   "source": [
    "## Matrix Substraction"
   ]
  },
  {
   "cell_type": "code",
   "execution_count": 15,
   "id": "3bfb7e34-d6e1-4419-a081-1d344e2c67f1",
   "metadata": {},
   "outputs": [
    {
     "name": "stdout",
     "output_type": "stream",
     "text": [
      "[[-4 -4]\n",
      " [-4 -4]]\n"
     ]
    }
   ],
   "source": [
    "a = np.array([\n",
    "    [2,3],\n",
    "    [4,5]\n",
    "])\n",
    "\n",
    "b = np.array([\n",
    "    [6,7],\n",
    "    [8,9]\n",
    "])\n",
    "\n",
    "difference = a - b\n",
    "\n",
    "print(difference)"
   ]
  },
  {
   "cell_type": "code",
   "execution_count": 18,
   "id": "46ad6181-315f-4dc4-9b05-9679a8971325",
   "metadata": {},
   "outputs": [
    {
     "name": "stdout",
     "output_type": "stream",
     "text": [
      "[[0 7 1]\n",
      " [2 2 8]\n",
      " [0 5 1]]\n",
      "[[ 4 13  6]\n",
      " [ 1  1 10]\n",
      " [14  8  9]]\n",
      "[[ -4  -6  -5]\n",
      " [  1   1  -2]\n",
      " [-14  -3  -8]]\n"
     ]
    }
   ],
   "source": [
    "# creating 2 similarly shaped matrices with randomn values\n",
    "mx_1 = np.random.randint(10, size=(3,3))\n",
    "mx_2 = np.random.randint(20, size=(3,3))\n",
    "\n",
    "print(mx_1)\n",
    "print(mx_2)\n",
    "\n",
    "mx_diff = np.subtract(mx_1, mx_2)\n",
    "print(mx_diff)"
   ]
  },
  {
   "cell_type": "markdown",
   "id": "f71949ba-56d9-4113-a465-449bff58a1b1",
   "metadata": {},
   "source": [
    "## Multiplying a Matrix by a Scalar"
   ]
  },
  {
   "cell_type": "code",
   "execution_count": 19,
   "id": "e5099299-4d9b-4543-acc2-098507c52d74",
   "metadata": {},
   "outputs": [
    {
     "name": "stdout",
     "output_type": "stream",
     "text": [
      "[[0 5 0 0]\n",
      " [9 3 7 8]\n",
      " [7 2 1 0]\n",
      " [4 0 9 3]]\n"
     ]
    }
   ],
   "source": [
    "x = 5\n",
    "y = np.random.randint(10, size=(4,4))\n",
    "\n",
    "print(y)"
   ]
  },
  {
   "cell_type": "code",
   "execution_count": 20,
   "id": "eae1dd13-4f9b-4fa4-8126-1b6ff6e237fc",
   "metadata": {},
   "outputs": [
    {
     "name": "stdout",
     "output_type": "stream",
     "text": [
      "[[ 0 25  0  0]\n",
      " [45 15 35 40]\n",
      " [35 10  5  0]\n",
      " [20  0 45 15]]\n"
     ]
    }
   ],
   "source": [
    "scalar_matrix_product = np.multiply(x,y)\n",
    "print(scalar_matrix_product)"
   ]
  },
  {
   "cell_type": "markdown",
   "id": "ad7d4077-de4c-4dac-8aec-01a5f977c9f0",
   "metadata": {},
   "source": [
    "## Multiplying 2 Matrices\n",
    "***Row-Wise Multiplication***"
   ]
  },
  {
   "cell_type": "code",
   "execution_count": 22,
   "id": "6050136d-c3f7-40b5-8d02-cfd07a2d537c",
   "metadata": {},
   "outputs": [
    {
     "name": "stdout",
     "output_type": "stream",
     "text": [
      "[[8 6 2]\n",
      " [3 2 7]\n",
      " [5 7 6]]\n",
      "[[ 6 18 11 19]\n",
      " [ 7 13 16  2]\n",
      " [ 4 14  2  0]]\n"
     ]
    }
   ],
   "source": [
    "mx_3 = np.random.randint(10, size=(3,3))\n",
    "mx_4 = np.random.randint(20, size=(3,4))\n",
    "\n",
    "print(mx_3)\n",
    "print(mx_4)"
   ]
  },
  {
   "cell_type": "code",
   "execution_count": 24,
   "id": "c411f097-3639-4db2-a0b1-147bf404a149",
   "metadata": {},
   "outputs": [
    {
     "name": "stdout",
     "output_type": "stream",
     "text": [
      "[[ 98 250 188 164]\n",
      " [ 60 178  79  61]\n",
      " [103 265 179 109]] (3, 4)\n"
     ]
    }
   ],
   "source": [
    "mxs_product = np.dot(mx_3,mx_4)\n",
    "\n",
    "print(mxs_product, mxs_product.shape)"
   ]
  },
  {
   "cell_type": "markdown",
   "id": "8a12d7fd-22d6-44ac-9f27-fb66d93b208d",
   "metadata": {},
   "source": [
    "***Element-Wise Multiplication***"
   ]
  },
  {
   "cell_type": "code",
   "execution_count": 26,
   "id": "a88ef1e2-04d0-4a02-8f36-ac6238a687f9",
   "metadata": {},
   "outputs": [
    {
     "name": "stdout",
     "output_type": "stream",
     "text": [
      "[[0 9 1]\n",
      " [0 6 6]\n",
      " [7 3 8]]\n",
      "[[ 1  7  3]\n",
      " [16  1 18]\n",
      " [16  3  9]]\n"
     ]
    }
   ],
   "source": [
    "mx_5 = np.random.randint(10, size=(3,3))\n",
    "mx_6 = np.random.randint(20, size=(3,3))\n",
    "\n",
    "print(mx_5)\n",
    "print(mx_6)"
   ]
  },
  {
   "cell_type": "code",
   "execution_count": 27,
   "id": "24800194-669a-4ec5-821d-017f7c1cc87c",
   "metadata": {},
   "outputs": [
    {
     "name": "stdout",
     "output_type": "stream",
     "text": [
      "[[  0  63   3]\n",
      " [  0   6 108]\n",
      " [112   9  72]]\n"
     ]
    }
   ],
   "source": [
    "element_multiply = np.multiply(mx_5, mx_6)\n",
    "print(element_multiply)"
   ]
  },
  {
   "cell_type": "code",
   "execution_count": 30,
   "id": "352064c5-2f09-4218-ae2a-8133e4bfc54e",
   "metadata": {},
   "outputs": [
    {
     "name": "stdout",
     "output_type": "stream",
     "text": [
      "9\n"
     ]
    }
   ],
   "source": [
    "print(element_multiply[2][1])"
   ]
  }
 ],
 "metadata": {
  "kernelspec": {
   "display_name": "Python 3 (ipykernel)",
   "language": "python",
   "name": "python3"
  },
  "language_info": {
   "codemirror_mode": {
    "name": "ipython",
    "version": 3
   },
   "file_extension": ".py",
   "mimetype": "text/x-python",
   "name": "python",
   "nbconvert_exporter": "python",
   "pygments_lexer": "ipython3",
   "version": "3.11.7"
  }
 },
 "nbformat": 4,
 "nbformat_minor": 5
}
