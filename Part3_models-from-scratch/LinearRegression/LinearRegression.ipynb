{
 "cells": [
  {
   "cell_type": "markdown",
   "id": "db2faaf0-aa13-4378-86d0-68569d3d36a0",
   "metadata": {},
   "source": [
    "# Linear Regression\n",
    "\n",
    "***Y = wX + b***\n",
    "\n",
    "Y -> Dependent Variable\n",
    "\n",
    "X -> Independent Variable\n",
    "\n",
    "w -> weight (Slope)\n",
    "\n",
    "b -> bias (Intercept)"
   ]
  },
  {
   "cell_type": "markdown",
   "id": "c8348a7e-6f3b-4765-b6a9-130d4072eef7",
   "metadata": {},
   "source": [
    "# Gradient Descent\n",
    "\n",
    "***w = w - a * dw***\n",
    "\n",
    "***b = b - a * db***"
   ]
  },
  {
   "cell_type": "code",
   "execution_count": 3,
   "id": "12093e71-d09e-4ef4-9afa-5f52a4e93dfb",
   "metadata": {},
   "outputs": [],
   "source": [
    "import numpy as np"
   ]
  },
  {
   "cell_type": "markdown",
   "id": "0b31568f-9d82-4ce2-8893-935793b98854",
   "metadata": {},
   "source": [
    "## Building Linear Regression"
   ]
  },
  {
   "cell_type": "code",
   "execution_count": 4,
   "id": "3bc715f6-b076-4050-9c4d-cb0ee28fd0ad",
   "metadata": {},
   "outputs": [],
   "source": [
    "class Linear_Regression:\n",
    "\n",
    "    # initiating the HyperParameters\n",
    "    def __init__(self, learning_rate, no_of_iterations):\n",
    "        self.learning_rate = learning_rate\n",
    "        self.no_of_iterations = no_of_iterations\n",
    "\n",
    "    def fit(self, X, Y):\n",
    "        #nr of training examples & nr of features\n",
    "        self.m, self.n = X.shape\n",
    "\n",
    "        #initiating the weight and bias\n",
    "        self.w = np.zeros(self.n)\n",
    "        self.b = 0\n",
    "        self.X = X\n",
    "        self.Y = Y\n",
    "\n",
    "        #implementing Gradinet Descent (optimization algorithm)\n",
    "        for i in range(self.no_of_iterations):\n",
    "            self.update_weights()\n",
    "        \n",
    "\n",
    "    def update_weights(self):\n",
    "        Y_prediction = self.predict(self.X)\n",
    "\n",
    "        # calculating the Gradients\n",
    "        dw = - (2 * (self.X.T).dot(self.Y - Y_prediction)) / self.m\n",
    "        db = - 2 * np.sum(self.Y - Y_prediction) / self.m\n",
    "\n",
    "        #updating the weights\n",
    "        self.w = self.w - self.learning_rate * dw\n",
    "        self.b = self.b - self.learning_rate * db\n",
    "\n",
    "    def predict(self, X):\n",
    "        return X.dot(self.w) + self.b\n",
    "\n",
    "    "
   ]
  },
  {
   "cell_type": "markdown",
   "id": "6ae3c241-99db-443a-8463-5c60cf5dca0c",
   "metadata": {},
   "source": [
    "***Convergence*** - the point at which a model can not perform any better"
   ]
  },
  {
   "cell_type": "code",
   "execution_count": null,
   "id": "c7b4d52a-34ab-4635-b88b-e3257c4dea74",
   "metadata": {},
   "outputs": [],
   "source": []
  }
 ],
 "metadata": {
  "kernelspec": {
   "display_name": "Python 3 (ipykernel)",
   "language": "python",
   "name": "python3"
  },
  "language_info": {
   "codemirror_mode": {
    "name": "ipython",
    "version": 3
   },
   "file_extension": ".py",
   "mimetype": "text/x-python",
   "name": "python",
   "nbconvert_exporter": "python",
   "pygments_lexer": "ipython3",
   "version": "3.11.7"
  }
 },
 "nbformat": 4,
 "nbformat_minor": 5
}
